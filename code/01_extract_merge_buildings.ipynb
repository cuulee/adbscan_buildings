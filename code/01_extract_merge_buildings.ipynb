{
 "cells": [
  {
   "cell_type": "markdown",
   "metadata": {},
   "source": [
    "# Consolidate data\n",
    "\n",
    "This notebook processes the original data into a consolidated databaset. The geometries are extracted from the initial `.gml` files and are stored into a `sqlite` database (`cadastro.db`), with an index for the municipality ID and the geometries stored as well-known-blurb strings."
   ]
  },
  {
   "cell_type": "code",
   "execution_count": 18,
   "metadata": {},
   "outputs": [],
   "source": [
    "%matplotlib inline\n",
    "\n",
    "import os\n",
    "import tools\n",
    "import sqlite3\n",
    "import pandas as pd\n",
    "import geopandas as gpd\n",
    "from sqlalchemy import create_engine\n",
    "\n",
    "in_folder = '../../01 Inspire buildings maps/Raw maps No PVasco Navarra/'\n",
    "out_folder = '/media/dani/baul/BigData/cadastro_esp/'\n",
    "out_folder = '/Users/dani/Desktop/'\n",
    "engine = create_engine('sqlite:////'+out_folder+'cadastro.db')"
   ]
  },
  {
   "cell_type": "markdown",
   "metadata": {},
   "source": [
    "## Extract all data into single table"
   ]
  },
  {
   "cell_type": "markdown",
   "metadata": {},
   "source": [
    "* Dump all data from `.gml` files"
   ]
  },
  {
   "cell_type": "code",
   "execution_count": 3,
   "metadata": {},
   "outputs": [
    {
     "name": "stdout",
     "output_type": "stream",
     "text": [
      "File A.ES.SDGC.BU.25218.zip failed\n",
      "\n",
      "File A.ES.SDGC.BU.39103.zip failed\n",
      "\n",
      "CPU times: user 1h 27min 40s, sys: 2min 42s, total: 1h 30min 23s\n",
      "Wall time: 6h 48min 1s\n"
     ]
    }
   ],
   "source": [
    "%%time\n",
    "files = [i for i in os.listdir(in_folder) if '.zip' in i]\n",
    "\n",
    "for f in files:\n",
    "    try:\n",
    "        db = tools.extract_geoms(in_folder + f, encode_geom=True)\n",
    "        db['file'] = f.replace('.zip', '')\n",
    "        db.to_sql('cadastro', engine, if_exists='append', \n",
    "                  index=False, chunksize=100000)\n",
    "    except:\n",
    "        print('File %s failed\\n'%f)"
   ]
  },
  {
   "cell_type": "markdown",
   "metadata": {},
   "source": [
    "Upon inspection, `A.ES.SDGC.BU.39103.gml` is an empty file. For the case of `A.ES.SDGC.BU.25218.zip`, there is a date column with a wrong year (`-1900`), which throws an error. Since it is not possible to turn off `convert_dates`, we manually replace `-1900` by `1900` in the `.geojson` created, and write it to the database:"
   ]
  },
  {
   "cell_type": "code",
   "execution_count": 22,
   "metadata": {},
   "outputs": [],
   "source": [
    "fi = open('A.ES.SDGC.BU.25218.geojson', 'r')\n",
    "fo = open('A.ES.SDGC.BU.25218_fixed.geojson', 'w')\n",
    "fixed = fi.read().replace('-1900', '1900')\n",
    "fo.write(fixed)\n",
    "fo.close()\n",
    "fi.close()\n",
    "\n",
    "db = gpd.read_file('A.ES.SDGC.BU.25218_fixed.geojson')\n",
    "db = db.to_crs(epsg=25830)\n",
    "xys = pd.DataFrame([[pt.x, pt.y] for pt in db.centroid],\n",
    "                   columns=['X', 'Y'])\n",
    "db['geometry'] = db['geometry'].apply(lambda g: g.to_wkb())\n",
    "db = pd.DataFrame(db)\n",
    "db = db.join(xys)\n",
    "db.to_sql('cadastro', engine, if_exists='append', \n",
    "          index=False, chunksize=100000)"
   ]
  },
  {
   "cell_type": "markdown",
   "metadata": {},
   "source": [
    "Then we remove manually the remaining files:"
   ]
  },
  {
   "cell_type": "code",
   "execution_count": 23,
   "metadata": {},
   "outputs": [],
   "source": [
    "! rm A.ES.SDGC.BU.25218*\n",
    "! rm A.ES.SDGC.BU.39103.*"
   ]
  },
  {
   "cell_type": "markdown",
   "metadata": {},
   "source": [
    "* Create indices"
   ]
  },
  {
   "cell_type": "code",
   "execution_count": 24,
   "metadata": {},
   "outputs": [
    {
     "name": "stdout",
     "output_type": "stream",
     "text": [
      "CPU times: user 1min 11s, sys: 26.8 s, total: 1min 38s\n",
      "Wall time: 4min 16s\n"
     ]
    }
   ],
   "source": [
    "%%time\n",
    "# http://pythoncentral.io/introductory-tutorial-python-sqlalchemy/\n",
    "conn = sqlite3.connect(out_folder+'cadastro.db')\n",
    "c = conn.cursor()\n",
    "\n",
    "c.execute(\"CREATE INDEX munID ON cadastro (file);\")\n",
    "c.execute(\"CREATE INDEX xID ON cadastro (X);\")\n",
    "c.execute(\"CREATE INDEX yID ON cadastro (Y);\")"
   ]
  },
  {
   "cell_type": "markdown",
   "metadata": {},
   "source": [
    "* Write CRS information"
   ]
  },
  {
   "cell_type": "code",
   "execution_count": 25,
   "metadata": {},
   "outputs": [
    {
     "data": {
      "text/html": [
       "<div>\n",
       "<style scoped>\n",
       "    .dataframe tbody tr th:only-of-type {\n",
       "        vertical-align: middle;\n",
       "    }\n",
       "\n",
       "    .dataframe tbody tr th {\n",
       "        vertical-align: top;\n",
       "    }\n",
       "\n",
       "    .dataframe thead th {\n",
       "        text-align: right;\n",
       "    }\n",
       "</style>\n",
       "<table border=\"1\" class=\"dataframe\">\n",
       "  <thead>\n",
       "    <tr style=\"text-align: right;\">\n",
       "      <th></th>\n",
       "      <th>crs</th>\n",
       "    </tr>\n",
       "    <tr>\n",
       "      <th>format</th>\n",
       "      <th></th>\n",
       "    </tr>\n",
       "  </thead>\n",
       "  <tbody>\n",
       "    <tr>\n",
       "      <th>epsg</th>\n",
       "      <td>25830</td>\n",
       "    </tr>\n",
       "  </tbody>\n",
       "</table>\n",
       "</div>"
      ],
      "text/plain": [
       "          crs\n",
       "format       \n",
       "epsg    25830"
      ]
     },
     "execution_count": 25,
     "metadata": {},
     "output_type": "execute_result"
    }
   ],
   "source": [
    "db_crs = pd.DataFrame({'crs': [25830]}, index=['epsg'])\n",
    "db_crs.index.name = 'format'\n",
    "db_crs.to_sql('crs', engine, if_exists='replace')\n",
    "db_crs"
   ]
  },
  {
   "cell_type": "markdown",
   "metadata": {},
   "source": [
    "* Write municipality code/name information into separate table (`code2name`)"
   ]
  },
  {
   "cell_type": "code",
   "execution_count": 26,
   "metadata": {},
   "outputs": [
    {
     "data": {
      "text/html": [
       "<div>\n",
       "<style scoped>\n",
       "    .dataframe tbody tr th:only-of-type {\n",
       "        vertical-align: middle;\n",
       "    }\n",
       "\n",
       "    .dataframe tbody tr th {\n",
       "        vertical-align: top;\n",
       "    }\n",
       "\n",
       "    .dataframe thead th {\n",
       "        text-align: right;\n",
       "    }\n",
       "</style>\n",
       "<table border=\"1\" class=\"dataframe\">\n",
       "  <thead>\n",
       "    <tr style=\"text-align: right;\">\n",
       "      <th></th>\n",
       "      <th>code</th>\n",
       "      <th>name</th>\n",
       "    </tr>\n",
       "  </thead>\n",
       "  <tbody>\n",
       "    <tr>\n",
       "      <th>0</th>\n",
       "      <td>02001</td>\n",
       "      <td>ABENGIBRE</td>\n",
       "    </tr>\n",
       "    <tr>\n",
       "      <th>1</th>\n",
       "      <td>02002</td>\n",
       "      <td>ALATOZ</td>\n",
       "    </tr>\n",
       "  </tbody>\n",
       "</table>\n",
       "</div>"
      ],
      "text/plain": [
       "    code       name\n",
       "0  02001  ABENGIBRE\n",
       "1  02002     ALATOZ"
      ]
     },
     "execution_count": 26,
     "metadata": {},
     "output_type": "execute_result"
    }
   ],
   "source": [
    "url = ('../../01 Inspire buildings maps/Raw maps No PVasco Navarra/'\\\n",
    "       '00 Municipalities with data.xml')\n",
    "code2name = tools.parse_municipalities(url)\\\n",
    "                 .reset_index()\\\n",
    "                 .rename(columns={'index': 'code',\n",
    "                                  'code2name': 'name'})\n",
    "code2name.to_sql('code2name', engine, if_exists='replace',index=False)\n",
    "code2name.head(2)"
   ]
  }
 ],
 "metadata": {
  "kernelspec": {
   "display_name": "Python 3",
   "language": "python",
   "name": "python3"
  },
  "language_info": {
   "codemirror_mode": {
    "name": "ipython",
    "version": 3
   },
   "file_extension": ".py",
   "mimetype": "text/x-python",
   "name": "python",
   "nbconvert_exporter": "python",
   "pygments_lexer": "ipython3",
   "version": "3.7.3"
  }
 },
 "nbformat": 4,
 "nbformat_minor": 4
}
