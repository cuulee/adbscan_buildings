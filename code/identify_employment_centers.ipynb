{
 "cells": [
  {
   "cell_type": "markdown",
   "metadata": {},
   "source": [
    "# Identify employment centers\n",
    "\n",
    "This notebooks covers the identification of employment centers presented in Section 4.2 of the published paper."
   ]
  },
  {
   "cell_type": "markdown",
   "metadata": {},
   "source": [
    "## Dependencies and Data"
   ]
  },
  {
   "cell_type": "code",
   "execution_count": null,
   "metadata": {},
   "outputs": [],
   "source": [
    "%matplotlib inline\n",
    "\n",
    "import tools, time, os, sys, traceback\n",
    "import multiprocessing as mp\n",
    "import pandas as pd\n",
    "import numpy as np\n",
    "import geopandas as gpd\n",
    "from sqlalchemy import create_engine\n",
    "import multiprocessing as mp\n",
    "\n",
    "from sklearn.cluster import DBSCAN\n",
    "from tools import ADBSCAN"
   ]
  },
  {
   "cell_type": "code",
   "execution_count": null,
   "metadata": {},
   "outputs": [],
   "source": [
    "linux = '/media/dani/baul/'\n",
    "macos = '/Users/dani/'\n",
    "server = '/home/jovyan/host/'\n",
    "db_path = server + 'Dropbox/Cadastre/01 Catastro maps/sqlite_db/cadastro.db'\n",
    "engine = create_engine('sqlite:////'+db_path)"
   ]
  },
  {
   "cell_type": "markdown",
   "metadata": {},
   "source": [
    "* Load point data"
   ]
  },
  {
   "cell_type": "code",
   "execution_count": null,
   "metadata": {},
   "outputs": [],
   "source": [
    "varlist=['X', 'Y', 'geometry', 'localId', 'numberOfBuildingUnits']\n",
    "%time db = pd.read_sql((\"SELECT X, Y, localId, numberOfBuildingUnits, numberOfDwellings \"\\\n",
    "                        \"FROM cadastro\"), engine)"
   ]
  },
  {
   "cell_type": "markdown",
   "metadata": {},
   "source": [
    "* Load solution data"
   ]
  },
  {
   "cell_type": "code",
   "execution_count": null,
   "metadata": {},
   "outputs": [],
   "source": [
    "%time solu = pd.read_parquet(('../output/revision/solution_'\\\n",
    "                              'rep1000_eps2000_mp2000_thr90.parquet'))\\\n",
    "               .set_index('id')"
   ]
  },
  {
   "cell_type": "markdown",
   "metadata": {},
   "source": [
    "To keep in line with structure of old code, turn `pct` into proportions:"
   ]
  },
  {
   "cell_type": "code",
   "execution_count": null,
   "metadata": {},
   "outputs": [],
   "source": [
    "solu['pct'] = solu['pct'] / 100"
   ]
  },
  {
   "cell_type": "markdown",
   "metadata": {},
   "source": [
    "* Join"
   ]
  },
  {
   "cell_type": "code",
   "execution_count": null,
   "metadata": {},
   "outputs": [],
   "source": [
    "%%time\n",
    "one = db.join(solu[['lbls']])"
   ]
  },
  {
   "cell_type": "markdown",
   "metadata": {},
   "source": [
    "* Non-residential points"
   ]
  },
  {
   "cell_type": "code",
   "execution_count": null,
   "metadata": {},
   "outputs": [],
   "source": [
    "emp = db['numberOfBuildingUnits'] - db['numberOfDwellings']\n",
    "emp = pd.DataFrame({'emp': emp[emp > 0]})\\\n",
    "        .join(db)\\\n",
    "        .join(solu[['lbls']])\n",
    "emp.info()"
   ]
  },
  {
   "cell_type": "code",
   "execution_count": null,
   "metadata": {},
   "outputs": [],
   "source": [
    "emp.reset_index()\\\n",
    "   .to_parquet('emp.parquet')"
   ]
  },
  {
   "cell_type": "markdown",
   "metadata": {},
   "source": [
    "With the above, `emp.parquet` contains a table with the number of buildings, residential, and non-residential units per building."
   ]
  },
  {
   "cell_type": "markdown",
   "metadata": {},
   "source": [
    "## Employment center identification\n",
    "\n",
    "Since identification in every city is independent, this is an [\"embarrasingly parallel\"](https://en.wikipedia.org/wiki/Embarrassingly_parallel) task. To compute several cities at the same time, we first split all of the cities into as many groups as the machine has cores, and we then execute the computation."
   ]
  },
  {
   "cell_type": "markdown",
   "metadata": {},
   "source": [
    "* Set up parameters"
   ]
  },
  {
   "cell_type": "code",
   "execution_count": null,
   "metadata": {},
   "outputs": [],
   "source": [
    "dens, eps, min_pts = tools.dbs_params(eps=250, dens=0.00025)\n",
    "print(\"Dens: %.4f | eps: %.4f | min_pts: %i\"\\\n",
    "      %(dens, eps, min_pts))"
   ]
  },
  {
   "cell_type": "markdown",
   "metadata": {},
   "source": [
    "* Chunk points by city (in parallel)"
   ]
  },
  {
   "cell_type": "code",
   "execution_count": null,
   "metadata": {},
   "outputs": [],
   "source": [
    "def picker(i):\n",
    "    return emp.loc[emp['lbls']==i, :]\n",
    "pool = mp.Pool(mp.cpu_count() - 1)\n",
    "\n",
    "city_ids = [i for i in emp['lbls'].unique() \\\n",
    "            if i!=-1]\n",
    "%time cities = pool.map(picker, city_ids)"
   ]
  },
  {
   "cell_type": "markdown",
   "metadata": {},
   "source": [
    "* Identify centers (in parallel)"
   ]
  },
  {
   "cell_type": "code",
   "execution_count": null,
   "metadata": {},
   "outputs": [],
   "source": [
    "reps = 1000\n",
    "\n",
    "def identifier(tab_id):\n",
    "    t0 = time.time()\n",
    "    tab, c_id = tab_id\n",
    "    cnts = tools.identify_city_centres(tab, \\\n",
    "                                       log_file=f'log_centre_identification_rep{reps}.txt', \\\n",
    "                                       dens=dens, \\\n",
    "                                       eps=eps, \\\n",
    "                                       min_pts=min_pts, \\\n",
    "                                       reps=reps)\n",
    "    cnts['city_id'] = c_id\n",
    "    t1 = time.time()\n",
    "    return cnts\n",
    "\n",
    "pool = mp.Pool(mp.cpu_count() - 1)\n",
    "\n",
    "%time cnts_all = pool.map(identifier, \\\n",
    "                          zip(cities, city_ids))\n",
    "\n",
    "pd.concat(cnts_all)\\\n",
    "  .to_file(f'rep{reps}_mp2000_eps2000_centres_adbscan.gpkg',\n",
    "           driver='GPKG')"
   ]
  },
  {
   "cell_type": "markdown",
   "metadata": {},
   "source": [
    "The output of these computations is a single GeoPackage file (`rep1000_mp2000_eps2000_centres_adbscan.gpkg`) with the polygon boundaries for all the employment centers in our cities."
   ]
  }
 ],
 "metadata": {
  "kernelspec": {
   "display_name": "Python 3",
   "language": "python",
   "name": "python3"
  },
  "language_info": {
   "codemirror_mode": {
    "name": "ipython",
    "version": 3
   },
   "file_extension": ".py",
   "mimetype": "text/x-python",
   "name": "python",
   "nbconvert_exporter": "python",
   "pygments_lexer": "ipython3",
   "version": "3.7.3"
  }
 },
 "nbformat": 4,
 "nbformat_minor": 4
}
