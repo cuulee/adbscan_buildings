{
 "cells": [
  {
   "cell_type": "markdown",
   "metadata": {},
   "source": [
    "# Join labels for every building\n",
    "\n",
    "This notebook creates a single table containing a row for every building and a column for each city delineation used in the comparison section of the published paper (Section 5): administrative municipalities, AUDES, and our own A-DBSCAN boundaries. The result is a single file (`pts_multi_lbls.parquet`) with a row per building and the building's label for each delineation."
   ]
  },
  {
   "cell_type": "markdown",
   "metadata": {},
   "source": [
    "## Dependencies and data"
   ]
  },
  {
   "cell_type": "code",
   "execution_count": null,
   "metadata": {},
   "outputs": [],
   "source": [
    "%matplotlib inline\n",
    "import matplotlib.pyplot as plt\n",
    "\n",
    "import os, time\n",
    "from time import gmtime, strftime\n",
    "import geopandas as gpd\n",
    "import multiprocessing as mp\n",
    "from shapely.geometry import Point\n",
    "import pandas as pd\n",
    "import numpy as np\n",
    "import tools"
   ]
  },
  {
   "cell_type": "markdown",
   "metadata": {},
   "source": [
    "* Read data"
   ]
  },
  {
   "cell_type": "code",
   "execution_count": null,
   "metadata": {},
   "outputs": [],
   "source": [
    "%time xys = pd.read_parquet('xys.parquet.gzip')\n",
    "\n",
    "cities_path = \"solution_rep1000_eps2000_mp2000_thr90.gpkg\"\n",
    "cities = gpd.read_file(cities_path)\\\n",
    "            .cx[:, 3500000:]\\\n",
    "            .set_index('lbls')\n",
    "\n",
    "aus_path = 'audes2010-au-pol.gpkg'\n",
    "aus = gpd.read_file(aus_path)\n",
    "aus = aus.to_crs(cities.crs)\\\n",
    "         .cx[:, 3500000:]\n",
    "\n",
    "munis_path = 'audes2010-mun.gpkg'\n",
    "munis = gpd.read_file(munis_path)\n",
    "munis = munis.to_crs(cities.crs)\\\n",
    "         .cx[:, 3500000:]"
   ]
  },
  {
   "cell_type": "markdown",
   "metadata": {},
   "source": [
    "* Create `Point` objects from `xys` coordinates"
   ]
  },
  {
   "cell_type": "code",
   "execution_count": null,
   "metadata": {},
   "outputs": [],
   "source": [
    "%%time\n",
    "def ptfy(xy):\n",
    "    return Point(*xy)\n",
    "def ptfy_partition(xys):\n",
    "    out = pd.Series(map(ptfy, xys.values), \n",
    "                    index=xys.index)\n",
    "    return out\n",
    "\n",
    "try:\n",
    "    print('Quick read...')\n",
    "    pts = tools.read_geoparquet('pts_geoms.parquet')\n",
    "except:\n",
    "    pool = mp.Pool(mp.cpu_count())\n",
    "    xys_chunked = np.array_split(xys, mp.cpu_count())\n",
    "    pts = gpd.GeoSeries(pool.map(ptfy_partition,\n",
    "                                 xys_chunked), \n",
    "                        crs=cities.crs)\n",
    "    pts = pd.concat(pts.tolist())\n",
    "    tools.write_geoparquet(gpd.GeoDataFrame({'geometry': pts}), \n",
    "                           'pts_geoms.parquet')"
   ]
  },
  {
   "cell_type": "code",
   "execution_count": null,
   "metadata": {},
   "outputs": [],
   "source": [
    "pts.crs = munis.crs"
   ]
  },
  {
   "cell_type": "markdown",
   "metadata": {},
   "source": [
    "## (Multi-core) spatial joins"
   ]
  },
  {
   "cell_type": "markdown",
   "metadata": {},
   "source": [
    "* Spatial join between `pts` and `munis` to link municipality ID to `pts`"
   ]
  },
  {
   "cell_type": "markdown",
   "metadata": {},
   "source": [
    "---\n",
    "\n",
    "Multi-CPU implementation"
   ]
  },
  {
   "cell_type": "code",
   "execution_count": null,
   "metadata": {},
   "outputs": [],
   "source": [
    "%%time\n",
    "\n",
    "pts_w_lbls = tools.p_sjoin(pts, munis[['geometry', 'CODINE']])"
   ]
  },
  {
   "cell_type": "markdown",
   "metadata": {},
   "source": [
    "* Spatial join between `pts` and `aus` to link Urban Area ID to `pts`"
   ]
  },
  {
   "cell_type": "code",
   "execution_count": null,
   "metadata": {},
   "outputs": [],
   "source": [
    "aus.crs"
   ]
  },
  {
   "cell_type": "code",
   "execution_count": null,
   "metadata": {},
   "outputs": [],
   "source": [
    "pts.crs"
   ]
  },
  {
   "cell_type": "code",
   "execution_count": null,
   "metadata": {},
   "outputs": [],
   "source": [
    "%%time\n",
    "\n",
    "pts_w_ua = tools.p_sjoin(pts, aus[['geometry', 'AU']])"
   ]
  },
  {
   "cell_type": "markdown",
   "metadata": {},
   "source": [
    "* Join delineation ID to table"
   ]
  },
  {
   "cell_type": "code",
   "execution_count": null,
   "metadata": {},
   "outputs": [],
   "source": [
    "p = 'solution_rep1000_eps2000_mp2000_thr90.parquet'\n",
    "#p = '../output/revision/' + p\n",
    "%time votes = pd.read_parquet(p)\\\n",
    "                .set_index('id')"
   ]
  },
  {
   "cell_type": "code",
   "execution_count": null,
   "metadata": {},
   "outputs": [],
   "source": [
    "db = votes.join(pts_w_lbls[['CODINE']])\\\n",
    "          .join(pts_w_ua[['AU']])\\\n",
    "          .reset_index()\\\n",
    "          .rename(columns={'index': 'pt_id'})"
   ]
  },
  {
   "cell_type": "markdown",
   "metadata": {},
   "source": [
    "* Write resulting table to Parquet file (`pts_multi_lbls.parquet`)"
   ]
  },
  {
   "cell_type": "code",
   "execution_count": null,
   "metadata": {},
   "outputs": [],
   "source": [
    "db.to_parquet('pts_multi_lbls.parquet')"
   ]
  }
 ],
 "metadata": {
  "kernelspec": {
   "display_name": "Python 3",
   "language": "python",
   "name": "python3"
  },
  "language_info": {
   "codemirror_mode": {
    "name": "ipython",
    "version": 3
   },
   "file_extension": ".py",
   "mimetype": "text/x-python",
   "name": "python",
   "nbconvert_exporter": "python",
   "pygments_lexer": "ipython3",
   "version": "3.7.3"
  }
 },
 "nbformat": 4,
 "nbformat_minor": 4
}
