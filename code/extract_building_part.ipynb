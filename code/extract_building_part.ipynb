{
 "cells": [
  {
   "cell_type": "markdown",
   "metadata": {},
   "source": [
    "# Extract `numberOfFloorsAboveGround` from `BuildingPart`\n",
    "\n",
    "This notebook contains the code required to extract the `.gml` files provided by the official Cadastre. This step involves simply looping over each compressed (`.zip`) file, extracting it temporarily into a GeoJSON file, and encoding its geometries into a well-known-blurb. Most of this is performed in the `extract_geoms` method."
   ]
  },
  {
   "cell_type": "code",
   "execution_count": null,
   "metadata": {},
   "outputs": [],
   "source": [
    "%matplotlib inline\n",
    "\n",
    "import os\n",
    "import tools\n",
    "from time import gmtime, strftime\n",
    "\n",
    "in_folder = '../../01 Inspire buildings maps/Raw maps No PVasco Navarra/'\n",
    "out_f = '../../01 Inspire buildings maps/buildingpart_areas.csv'\n",
    "\n",
    "def logger(txt, f='log.txt', mode='a'):\n",
    "    fo = open(f, 'a')\n",
    "    fo.write(txt)\n",
    "    fo.close()\n",
    "    return txt"
   ]
  },
  {
   "cell_type": "markdown",
   "metadata": {},
   "source": [
    "* Extract `.gml` files"
   ]
  },
  {
   "cell_type": "code",
   "execution_count": null,
   "metadata": {},
   "outputs": [
    {
     "name": "stdout",
     "output_type": "stream",
     "text": [
      "2018-08-04 21:50:41\n"
     ]
    }
   ],
   "source": [
    "%%time\n",
    "os.system(\"rm %s\"%out_f)\n",
    "\n",
    "! rm log_extract_buildings.txt\n",
    "logger('', f='log_extract_buildings.txt', mode='w')\n",
    "\n",
    "files = [i for i in os.listdir(in_folder) if '.zip' in i]\n",
    "\n",
    "print(logger(strftime(\"%Y-%m-%d %H:%M:%S\", gmtime())))\n",
    "\n",
    "for f in files:\n",
    "    now = strftime(\"%Y-%m-%d %H:%M:%S\", gmtime())\n",
    "    try:\n",
    "        db = tools.extract_geoms(in_folder + f, \n",
    "                                 ext='.buildingpart.gml',\n",
    "                                 encode_geom=False)\n",
    "        db['area'] = db.area\n",
    "        db[['X', 'Y', 'area']]\\\n",
    "          .to_csv(out_f, mode='a')\n",
    "    except:\n",
    "        print(logger('File %s failed\\n'%f, \n",
    "                     f='log_extract_buildings.txt'))\n",
    "print(logger(strftime(\"%Y-%m-%d %H:%M:%S\", gmtime()), \n",
    "             f='log_extract_buildings.txt'))"
   ]
  }
 ],
 "metadata": {
  "kernelspec": {
   "display_name": "Python 3",
   "language": "python",
   "name": "python3"
  },
  "language_info": {
   "codemirror_mode": {
    "name": "ipython",
    "version": 3
   },
   "file_extension": ".py",
   "mimetype": "text/x-python",
   "name": "python",
   "nbconvert_exporter": "python",
   "pygments_lexer": "ipython3",
   "version": "3.7.3"
  }
 },
 "nbformat": 4,
 "nbformat_minor": 4
}
